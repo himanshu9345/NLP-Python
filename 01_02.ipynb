{
 "cells": [
  {
   "cell_type": "markdown",
   "metadata": {},
   "source": [
    "# NLP Basics: What is Natural Language Processing & the Natural Language Toolkit?"
   ]
  },
  {
   "cell_type": "markdown",
   "metadata": {},
   "source": [
    "### How to install NLTK on your local machine\n",
    "\n",
    "Both sets of instructions below assume you already have Python installed. These instructions are taken directly from [http://www.nltk.org/install.html](http://www.nltk.org/install.html).\n",
    "\n",
    "**Mac/Unix**\n",
    "\n",
    "From the terminal:\n",
    "1. Install NLTK: run `pip install -U nltk`\n",
    "2. Test installation: run `python` then type `import nltk`\n",
    "\n",
    "**Windows**\n",
    "\n",
    "1. Install NLTK: [http://pypi.python.org/pypi/nltk](http://pypi.python.org/pypi/nltk)\n",
    "2. Test installation: `Start>Python35`, then type `import nltk`"
   ]
  },
  {
   "cell_type": "markdown",
   "metadata": {},
   "source": [
    "### Download NLTK data"
   ]
  },
  {
   "cell_type": "code",
   "execution_count": null,
   "metadata": {
    "collapsed": true
   },
   "outputs": [],
   "source": [
    "import nltk\n",
    "nltk.download()"
   ]
  },
  {
   "cell_type": "code",
   "execution_count": 1,
   "metadata": {
    "collapsed": true
   },
   "outputs": [],
   "source": [
    "rawData = open(\"dataset/SMSSpamCollection\").read()"
   ]
  },
  {
   "cell_type": "code",
   "execution_count": 2,
   "metadata": {},
   "outputs": [
    {
     "output_type": "execute_result",
     "data": {
      "text/plain": "\"ham\\tGo until jurong point, crazy.. Available only in bugis n great world la e buffet... Cine there got amore wat...\\nham\\tOk lar... Joking wif u oni...\\nspam\\tFree entry in 2 a wkly comp to win FA Cup final tkts 21st May 2005. Text FA to 87121 to receive entry question(std txt rate)T&C's apply 08452810075over18's\\nham\\tU dun say so early hor... U c already then say...\\nham\\tNah I don't think he goes to usf, he lives around here though\\nspam\\tFreeMsg Hey there darling it's been 3 week's now and no word bac\""
     },
     "metadata": {},
     "execution_count": 2
    }
   ],
   "source": [
    "rawData[0:500]"
   ]
  },
  {
   "cell_type": "code",
   "execution_count": 3,
   "metadata": {},
   "outputs": [],
   "source": [
    "paresedData = rawData.replace('\\t','\\n').split('\\n')"
   ]
  },
  {
   "cell_type": "code",
   "execution_count": 4,
   "metadata": {},
   "outputs": [
    {
     "output_type": "execute_result",
     "data": {
      "text/plain": "['ham',\n 'Go until jurong point, crazy.. Available only in bugis n great world la e buffet... Cine there got amore wat...',\n 'ham',\n 'Ok lar... Joking wif u oni...',\n 'spam',\n \"Free entry in 2 a wkly comp to win FA Cup final tkts 21st May 2005. Text FA to 87121 to receive entry question(std txt rate)T&C's apply 08452810075over18's\",\n 'ham',\n 'U dun say so early hor... U c already then say...',\n 'ham',\n \"Nah I don't think he goes to usf, he lives around here though\"]"
     },
     "metadata": {},
     "execution_count": 4
    }
   ],
   "source": [
    "paresedData[:10]"
   ]
  },
  {
   "cell_type": "code",
   "execution_count": 6,
   "metadata": {},
   "outputs": [],
   "source": [
    "labelList = paresedData[0::2]\n",
    "textList = paresedData[1::2]"
   ]
  },
  {
   "cell_type": "code",
   "execution_count": 7,
   "metadata": {},
   "outputs": [
    {
     "output_type": "execute_result",
     "data": {
      "text/plain": "['ham', 'ham', 'spam', 'ham', 'ham']"
     },
     "metadata": {},
     "execution_count": 7
    }
   ],
   "source": [
    "labelList[:5]"
   ]
  },
  {
   "cell_type": "code",
   "execution_count": 15,
   "metadata": {
    "tags": []
   },
   "outputs": [
    {
     "output_type": "stream",
     "name": "stdout",
     "text": "5574\n5575\n['ham', 'ham', '']\n"
    }
   ],
   "source": [
    "print (len(textList))\n",
    "print(len(labelList))\n",
    "print(labelList[-3:])"
   ]
  },
  {
   "cell_type": "code",
   "execution_count": 9,
   "metadata": {},
   "outputs": [],
   "source": [
    "import pandas as pd"
   ]
  },
  {
   "cell_type": "code",
   "execution_count": 16,
   "metadata": {},
   "outputs": [],
   "source": [
    "fullCorpus = pd.DataFrame({\n",
    "'label':labelList[:-1],\n",
    "'body list': textList})"
   ]
  },
  {
   "cell_type": "code",
   "execution_count": 17,
   "metadata": {},
   "outputs": [
    {
     "output_type": "execute_result",
     "data": {
      "text/plain": "<bound method NDFrame.head of      label                                          body list\n0      ham  Go until jurong point, crazy.. Available only ...\n1      ham                      Ok lar... Joking wif u oni...\n2     spam  Free entry in 2 a wkly comp to win FA Cup fina...\n3      ham  U dun say so early hor... U c already then say...\n4      ham  Nah I don't think he goes to usf, he lives aro...\n5     spam  FreeMsg Hey there darling it's been 3 week's n...\n6      ham  Even my brother is not like to speak with me. ...\n7      ham  As per your request 'Melle Melle (Oru Minnamin...\n8     spam  WINNER!! As a valued network customer you have...\n9     spam  Had your mobile 11 months or more? U R entitle...\n10     ham  I'm gonna be home soon and i don't want to tal...\n11    spam  SIX chances to win CASH! From 100 to 20,000 po...\n12    spam  URGENT! You have won a 1 week FREE membership ...\n13     ham  I've been searching for the right words to tha...\n14     ham                I HAVE A DATE ON SUNDAY WITH WILL!!\n15    spam  XXXMobileMovieClub: To use your credit, click ...\n16     ham                         Oh k...i'm watching here:)\n17     ham  Eh u remember how 2 spell his name... Yes i di...\n18     ham  Fine if thatÂ’s the way u feel. ThatÂ’s the wa...\n19    spam  England v Macedonia - dont miss the goals/team...\n20     ham          Is that seriously how you spell his name?\n21     ham  Iâ€˜m going to try for 2 months ha ha only joking\n22     ham  So Ã¼ pay first lar... Then when is da stock c...\n23     ham  Aft i finish my lunch then i go str down lor. ...\n24     ham  Ffffffffff. Alright no way I can meet up with ...\n25     ham  Just forced myself to eat a slice. I'm really ...\n26     ham                     Lol your always so convincing.\n27     ham  Did you catch the bus ? Are you frying an egg ...\n28     ham  I'm back &amp; we're packing the car now, I'll...\n29     ham  Ahhh. Work. I vaguely remember that! What does...\n...    ...                                                ...\n5544   ham           Armand says get your ass over to epsilon\n5545   ham             U still havent got urself a jacket ah?\n5546   ham  I'm taking derek &amp; taylor to walmart, if I...\n5547   ham      Hi its in durban are you still on this number\n5548   ham         Ic. There are a lotta childporn cars then.\n5549  spam  Had your contract mobile 11 Mnths? Latest Moto...\n5550   ham                 No, I was trying it all weekend ;V\n5551   ham  You know, wot people wear. T shirts, jumpers, ...\n5552   ham        Cool, what time you think you can get here?\n5553   ham  Wen did you get so spiritual and deep. That's ...\n5554   ham  Have a safe trip to Nigeria. Wish you happines...\n5555   ham                        Hahaha..use your brain dear\n5556   ham  Well keep in mind I've only got enough gas for...\n5557   ham  Yeh. Indians was nice. Tho it did kane me off ...\n5558   ham  Yes i have. So that's why u texted. Pshew...mi...\n5559   ham  No. I meant the calculation is the same. That ...\n5560   ham                             Sorry, I'll call later\n5561   ham  if you aren't here in the next  &lt;#&gt;  hou...\n5562   ham                  Anything lor. Juz both of us lor.\n5563   ham  Get me out of this dump heap. My mom decided t...\n5564   ham  Ok lor... Sony ericsson salesman... I ask shuh...\n5565   ham                                Ard 6 like dat lor.\n5566   ham  Why don't you wait 'til at least wednesday to ...\n5567   ham                                       Huh y lei...\n5568  spam  REMINDER FROM O2: To get 2.50 pounds free call...\n5569  spam  This is the 2nd time we have tried 2 contact u...\n5570   ham              Will Ã¼ b going to esplanade fr home?\n5571   ham  Pity, * was in mood for that. So...any other s...\n5572   ham  The guy did some bitching but I acted like i'd...\n5573   ham                         Rofl. Its true to its name\n\n[5574 rows x 2 columns]>"
     },
     "metadata": {},
     "execution_count": 17
    }
   ],
   "source": [
    "fullCorpus.head"
   ]
  },
  {
   "cell_type": "code",
   "execution_count": null,
   "metadata": {},
   "outputs": [],
   "source": []
  }
 ],
 "metadata": {
  "kernelspec": {
   "display_name": "Python 3",
   "language": "python",
   "name": "python3"
  },
  "language_info": {
   "codemirror_mode": {
    "name": "ipython",
    "version": 3
   },
   "file_extension": ".py",
   "mimetype": "text/x-python",
   "name": "python",
   "nbconvert_exporter": "python",
   "pygments_lexer": "ipython3",
   "version": "3.6.8-final"
  }
 },
 "nbformat": 4,
 "nbformat_minor": 1
}